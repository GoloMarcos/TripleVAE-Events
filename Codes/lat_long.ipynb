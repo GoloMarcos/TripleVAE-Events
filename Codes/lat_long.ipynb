{
  "nbformat": 4,
  "nbformat_minor": 0,
  "metadata": {
    "colab": {
      "name": "lat-long.ipynb",
      "provenance": [],
      "collapsed_sections": []
    },
    "kernelspec": {
      "name": "python3",
      "display_name": "Python 3"
    },
    "language_info": {
      "name": "python"
    }
  },
  "cells": [
    {
      "cell_type": "code",
      "metadata": {
        "colab": {
          "base_uri": "https://localhost:8080/"
        },
        "id": "PtSGlFoJE659",
        "outputId": "aff6b93c-178c-4e9e-8506-98a7fe39fa6c"
      },
      "source": [
        "!gdown --id 1mcvDJHT-UIBU-nyvUJzkwnsRKsTZPerU\n",
        "!unzip Events.zip "
      ],
      "execution_count": 1,
      "outputs": [
        {
          "output_type": "stream",
          "text": [
            "Downloading...\n",
            "From: https://drive.google.com/uc?id=1mcvDJHT-UIBU-nyvUJzkwnsRKsTZPerU\n",
            "To: /content/Events.zip\n",
            "118MB [00:03, 34.5MB/s]\n"
          ],
          "name": "stdout"
        }
      ]
    },
    {
      "cell_type": "code",
      "metadata": {
        "id": "PXTXs843FU9c"
      },
      "source": [
        "from os.path import isdir, isfile\n",
        "from pathlib import Path\n",
        "import numpy as np\n",
        "import pandas as pd"
      ],
      "execution_count": 4,
      "outputs": []
    },
    {
      "cell_type": "code",
      "metadata": {
        "id": "w8nM9fa_FRW0"
      },
      "source": [
        "basepath = Path('./Events/')\n",
        "files_in_basepath = basepath.iterdir()\n",
        "datasets_dictionary = {}\n",
        "for item in files_in_basepath:\n",
        "  if item.is_file():\n",
        "    df = pd.read_pickle('./Events/' + item.name)\n",
        "    datasets_dictionary[item.name.replace('.plk','')] = df"
      ],
      "execution_count": 5,
      "outputs": []
    },
    {
      "cell_type": "code",
      "metadata": {
        "id": "WyyBmk9mFXN9"
      },
      "source": [
        "l = datasets_dictionary['Covid']['Lat_Long'][0] # Example of Event Location\n",
        "l"
      ],
      "execution_count": null,
      "outputs": []
    },
    {
      "cell_type": "code",
      "metadata": {
        "colab": {
          "base_uri": "https://localhost:8080/"
        },
        "id": "BLuCM0AfHJbX",
        "outputId": "6cb94275-5ad2-406d-fe50-844549deb4f4"
      },
      "source": [
        "l2 = l[-1].split('#')\n",
        "l2"
      ],
      "execution_count": 18,
      "outputs": [
        {
          "output_type": "execute_result",
          "data": {
            "text/plain": [
              "['4',\n",
              " 'Riyadh, Ar Riya?, Saudi Arabia',\n",
              " 'SA',\n",
              " 'SA10',\n",
              " '24.6408',\n",
              " '46.7728',\n",
              " '-3093009']"
            ]
          },
          "metadata": {
            "tags": []
          },
          "execution_count": 18
        }
      ]
    },
    {
      "cell_type": "code",
      "metadata": {
        "colab": {
          "base_uri": "https://localhost:8080/",
          "height": 35
        },
        "id": "utcx9gKeI4hY",
        "outputId": "80b61a22-a4e1-40aa-a9ec-d417f8ae44ab"
      },
      "source": [
        "l2[-3] #Latitude"
      ],
      "execution_count": 43,
      "outputs": [
        {
          "output_type": "execute_result",
          "data": {
            "application/vnd.google.colaboratory.intrinsic+json": {
              "type": "string"
            },
            "text/plain": [
              "'24.6408'"
            ]
          },
          "metadata": {
            "tags": []
          },
          "execution_count": 43
        }
      ]
    },
    {
      "cell_type": "code",
      "metadata": {
        "colab": {
          "base_uri": "https://localhost:8080/",
          "height": 35
        },
        "id": "QDLSOEX0HRDX",
        "outputId": "8049439a-c42b-465a-8de8-a7b779b8a3eb"
      },
      "source": [
        "l2[-2] # Longitude"
      ],
      "execution_count": 44,
      "outputs": [
        {
          "output_type": "execute_result",
          "data": {
            "application/vnd.google.colaboratory.intrinsic+json": {
              "type": "string"
            },
            "text/plain": [
              "'46.7728'"
            ]
          },
          "metadata": {
            "tags": []
          },
          "execution_count": 44
        }
      ]
    },
    {
      "cell_type": "code",
      "metadata": {
        "id": "nnC0xPc0FTM2"
      },
      "source": [
        "for dataset in datasets_dictionary.keys():\n",
        "  list_latlong = []\n",
        "  for item,row in datasets_dictionary[dataset].iterrows():\n",
        "    l = row['Lat_Long'][-1].split('#')\n",
        "    lat = l[-3]\n",
        "    long_ = l[-2]\n",
        "    list_latlong.append([lat,long_])\n",
        "  datasets_dictionary[dataset]['lat_long'] = list_latlong"
      ],
      "execution_count": 25,
      "outputs": []
    },
    {
      "cell_type": "code",
      "metadata": {
        "id": "WiMaj02VIMME"
      },
      "source": [
        "for dataset in datasets_dictionary.keys():\n",
        "  datasets_dictionary[dataset] = datasets_dictionary[dataset].rename(columns={'Lat_Long': 'Location'})"
      ],
      "execution_count": 38,
      "outputs": []
    },
    {
      "cell_type": "code",
      "metadata": {
        "id": "fuQdpWZ-IwDM"
      },
      "source": [
        "for dataset in datasets_dictionary.keys():\n",
        "  datasets_dictionary[dataset].to_pickle(dataset + '.plk')"
      ],
      "execution_count": 49,
      "outputs": []
    }
  ]
}